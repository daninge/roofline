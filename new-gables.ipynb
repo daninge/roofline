{
 "cells": [
  {
   "cell_type": "code",
   "execution_count": 1,
   "metadata": {},
   "outputs": [],
   "source": [
    "import os\n",
    "import math\n",
    "import matplotlib.pyplot as plt\n",
    "import matplotlib as mpl\n",
    "import numpy as np"
   ]
  },
  {
   "cell_type": "code",
   "execution_count": 2,
   "metadata": {},
   "outputs": [],
   "source": [
    "INPUT_DIRECTORY = \"/Users/dinge/Public/roofline/\""
   ]
  },
  {
   "cell_type": "code",
   "execution_count": 3,
   "metadata": {},
   "outputs": [],
   "source": [
    "os.chdir(INPUT_DIRECTORY)"
   ]
  },
  {
   "cell_type": "code",
   "execution_count": 4,
   "metadata": {},
   "outputs": [],
   "source": [
    "def plot_bandwidth(summary):\n",
    "    plt.plot(summary.x, summary.band)\n",
    "    plt.xscale(\"log\")\n",
    "    plt.yscale(\"log\")\n",
    "    plt.ylabel(\"Total Bandwidth (GB/s)\")\n",
    "    plt.xlabel(\"Working set size (bytes)\")\n",
    "    plt.show() \n",
    "    \n",
    "def plot_gflops(summary):\n",
    "    plt.plot(summaries[0].x, summaries[0].gflops)\n",
    "    plt.xscale(\"log\")\n",
    "    plt.yscale(\"log\")\n",
    "    plt.ylabel(\"GFLOPs/sec\")\n",
    "    plt.xlabel(\"Working set size (bytes)\")\n",
    "    plt.show() "
   ]
  },
  {
   "cell_type": "code",
   "execution_count": 5,
   "metadata": {},
   "outputs": [],
   "source": [
    "def smooth(y):\n",
    "    ys = y[:]\n",
    "\n",
    "    d = 0\n",
    "\n",
    "    for i in range(len(ys)):\n",
    "        num = min(len(ys),i+d+1) - max(0,i-d)\n",
    "        total = sum(ys[max(0,i-d):min(len(ys),i+d+1)])\n",
    "        ys[i] = total/float(num)\n",
    "\n",
    "    return ys\n",
    "\n",
    "def calculate_bandwidths(summary):\n",
    "    max_band = max(summary.band)\n",
    "    num_buckets = 10000\n",
    "    threshold = 1.05\n",
    "    buckets = [0] * num_buckets\n",
    "    bucket_values = [0] * num_buckets\n",
    "    band = summary.band[summary.band.index(max_band):]\n",
    "    band = smooth(band)\n",
    "    for i in range(0, num_buckets):\n",
    "        value = (max_band / num_buckets) * i\n",
    "        bucket_min = value/threshold\n",
    "        bucket_max = value * threshold\n",
    "        for b in band:\n",
    "            if b > bucket_min and b < bucket_max:\n",
    "                buckets[i] += 1\n",
    "                bucket_values[i] = b\n",
    "                \n",
    "    band_list = [[max_band*1000,1000]]\n",
    "    maxc = -1\n",
    "    maxi = -1\n",
    "    for i in range(num_buckets-3,1,-1):\n",
    "        if buckets[i] > 6:\n",
    "            if buckets[i] > maxc:\n",
    "                maxc = buckets[i]\n",
    "                maxi = i\n",
    "        else:\n",
    "            threshold = 1.25\n",
    "            if maxc > 1:\n",
    "                value = float(bucket_values[maxi])/max(1,buckets[maxi])\n",
    "                if threshold*value < float(band_list[-1][0])/band_list[-1][1]:\n",
    "                    band_list.append([bucket_values[maxi],buckets[maxi]])\n",
    "                else:\n",
    "                    band_list[-1][0] += bucket_values[maxi]\n",
    "                    band_list[-1][1] += buckets[maxi]\n",
    "            maxc = -1\n",
    "            maxi = -1\n",
    "            \n",
    "    print(band_list)\n",
    "    summary.max_dram = band_list[-1][0]\n",
    "    try:\n",
    "        summary.max_l1 = band_list[-2][0]\n",
    "        summary.max_l2 = band_list[-3][0]\n",
    "    except:\n",
    "        pass\n",
    "\n",
    "def calculate_weight(summary):\n",
    "    weight = 0\n",
    "    for i in range(0,len(summary.x)-1):\n",
    "        x1 = math.log(summary.x[i])\n",
    "        y1 = summary.band[i]\n",
    "\n",
    "        x2 = math.log(summary.x[i+1])\n",
    "        y2 = summary.band[i+1]\n",
    "\n",
    "        weight += (y1+y2)/2.0 * (x2-x1)\n",
    "    summary.weight = weight"
   ]
  },
  {
   "cell_type": "code",
   "execution_count": 24,
   "metadata": {},
   "outputs": [],
   "source": [
    "# Remove \n",
    "\n",
    "class RAW_INDEX:\n",
    "    working_set_size = 0\n",
    "    num_trials = 1\n",
    "    time = 2\n",
    "    bytes = 3\n",
    "    flops=4\n",
    "\n",
    "class TestSummary(object):\n",
    "    def __init__(self):\n",
    "        self.max_gflops = -math.inf\n",
    "        self.weight = None\n",
    "        self.max_l1 = None\n",
    "        self.max_l2 = None\n",
    "        self.max_dram = None\n",
    "        self.flops = None\n",
    "        self.threads = None\n",
    "        self.x = []\n",
    "        self.band = []\n",
    "        self.gflops = []\n",
    "        \n",
    "def get_test_summaries():  \n",
    "    summaries = []\n",
    "    # Parse raw test data into list of test summaries\n",
    "    for filename in os.listdir():\n",
    "        if not filename.endswith(\".gables\"):\n",
    "            continue;\n",
    "        summary = TestSummary()\n",
    "        with open(os.path.join(INPUT_DIRECTORY, filename), 'r') as file:\n",
    "            prev_values = None\n",
    "            is_metadata = False\n",
    "            for line in file.readlines():\n",
    "                if line.strip() == \"\":\n",
    "                    continue\n",
    "                if is_metadata:\n",
    "                    # Parse metadata\n",
    "                    values = line.strip().split()\n",
    "                    if values[0] == \"FLOPS\":\n",
    "                        summary.flops = float(values[1])\n",
    "                        continue\n",
    "                    else:\n",
    "                        summary.threads = float(values[1])\n",
    "                        break\n",
    "                if line.strip() == \"META_DATA\":\n",
    "                    # We have reached meta data\n",
    "                    is_metadata = True\n",
    "                    continue\n",
    "                # This is a normal line of data\n",
    "                values = [float(x) for x in line.strip().split()]\n",
    "                if not prev_values or prev_values[RAW_INDEX.num_trials] < values[RAW_INDEX.num_trials] or values == []:\n",
    "                    prev_values = values\n",
    "                    continue\n",
    "                else:\n",
    "                    # We want to consider this value\n",
    "                    if prev_values[RAW_INDEX.time] == 0:\n",
    "                        prev_values[RAW_INDEX.time] = 1 ** (-10)\n",
    "                    summary.max_gflops = max(summary.max_gflops, prev_values[RAW_INDEX.flops]/prev_values[RAW_INDEX.time])\n",
    "                    summary.x.append(prev_values[RAW_INDEX.working_set_size])\n",
    "                    summary.gflops.append((prev_values[RAW_INDEX.flops]/prev_values[RAW_INDEX.time])/1000)\n",
    "                    summary.band.append((prev_values[RAW_INDEX.bytes]/prev_values[RAW_INDEX.time])/1000)\n",
    "                    prev_values = values\n",
    "        # Calculate max l1, l2 and dram bandwidth\n",
    "        calculate_bandwidths(summary)\n",
    "        # Calculate weight\n",
    "        calculate_weight(summary)\n",
    "        summaries.append(summary)\n",
    "    return summaries"
   ]
  },
  {
   "cell_type": "code",
   "execution_count": 25,
   "metadata": {},
   "outputs": [],
   "source": [
    "def plot_roofline(summaries):\n",
    "    max_index = 0\n",
    "    max_weight = -math.inf\n",
    "    \n",
    "    max_gflops = -math.inf\n",
    "    \n",
    "    for i, summary in enumerate(summaries):\n",
    "        max_gflops = max(max_gflops, summary.max_gflops)\n",
    "        if summary.weight > max_weight:\n",
    "            max_index = i\n",
    "            max_weight = summary.weight\n",
    "    summary = summaries[max_index]\n",
    "    \n",
    "    x = np.logspace(-1, 5, 1000)\n",
    "    plt.yscale(\"log\")\n",
    "    plt.xscale(\"log\")\n",
    "    \n",
    "    if summary.max_dram:\n",
    "        ys = np.minimum(summary.max_dram * x, np.repeat(summary.max_gflops, len(x)))\n",
    "        plt.plot(x, ys, label=\"DRAM {} GB/s\".format(summary.max_dram))\n",
    "        \n",
    "    if summary.max_l1:\n",
    "        ys = np.minimum(summary.max_l1 * x, np.repeat(summary.max_gflops, len(x)))\n",
    "        plt.plot(x, ys, label=\"L1 {} GB/s\".format(summary.max_l1))\n",
    "        \n",
    "    if summary.max_l2:\n",
    "        ys = np.minimum(summary.max_l2 * x, np.repeat(summary.max_gflops, len(x)))\n",
    "        plt.plot(x, ys, label=\"L2 {} GB/s\".format(summary.max_l2))\n",
    "        \n",
    "    plt.legend()\n",
    "    plt.xlabel(\"Flops/byte\")\n",
    "    plt.ylabel(\"MFlops/second\")\n",
    "    mpl.rcParams['figure.figsize'] = (10,5)\n",
    "    plt.show()\n",
    "    "
   ]
  },
  {
   "cell_type": "code",
   "execution_count": 26,
   "metadata": {},
   "outputs": [
    {
     "name": "stdout",
     "output_type": "stream",
     "text": [
      "[[10133.20508877394, 1000], [16.04930018062003, 107]]\n"
     ]
    }
   ],
   "source": [
    "summary = get_test_summaries()[0]"
   ]
  },
  {
   "cell_type": "code",
   "execution_count": 27,
   "metadata": {},
   "outputs": [
    {
     "name": "stdout",
     "output_type": "stream",
     "text": [
      "633.3253180483713\n",
      "10133.20508877394\n",
      "None\n",
      "16.04930018062003\n",
      "0.0625\n"
     ]
    },
    {
     "ename": "TypeError",
     "evalue": "unsupported operand type(s) for /: 'float' and 'NoneType'",
     "output_type": "error",
     "traceback": [
      "\u001b[0;31m---------------------------------------------------------------------------\u001b[0m",
      "\u001b[0;31mTypeError\u001b[0m                                 Traceback (most recent call last)",
      "\u001b[0;32m<ipython-input-27-e164e1f035de>\u001b[0m in \u001b[0;36m<module>\u001b[0;34m()\u001b[0m\n\u001b[1;32m      5\u001b[0m \u001b[0;34m\u001b[0m\u001b[0m\n\u001b[1;32m      6\u001b[0m \u001b[0mprint\u001b[0m\u001b[0;34m(\u001b[0m\u001b[0msummary\u001b[0m\u001b[0;34m.\u001b[0m\u001b[0mmax_gflops\u001b[0m \u001b[0;34m/\u001b[0m \u001b[0msummary\u001b[0m\u001b[0;34m.\u001b[0m\u001b[0mmax_l1\u001b[0m\u001b[0;34m)\u001b[0m\u001b[0;34m\u001b[0m\u001b[0;34m\u001b[0m\u001b[0m\n\u001b[0;32m----> 7\u001b[0;31m \u001b[0mprint\u001b[0m\u001b[0;34m(\u001b[0m\u001b[0msummary\u001b[0m\u001b[0;34m.\u001b[0m\u001b[0mmax_gflops\u001b[0m \u001b[0;34m/\u001b[0m \u001b[0msummary\u001b[0m\u001b[0;34m.\u001b[0m\u001b[0mmax_l2\u001b[0m\u001b[0;34m)\u001b[0m\u001b[0;34m\u001b[0m\u001b[0;34m\u001b[0m\u001b[0m\n\u001b[0m\u001b[1;32m      8\u001b[0m \u001b[0mprint\u001b[0m\u001b[0;34m(\u001b[0m\u001b[0msummary\u001b[0m\u001b[0;34m.\u001b[0m\u001b[0mmax_gflops\u001b[0m \u001b[0;34m/\u001b[0m \u001b[0msummary\u001b[0m\u001b[0;34m.\u001b[0m\u001b[0mmax_dram\u001b[0m\u001b[0;34m)\u001b[0m\u001b[0;34m\u001b[0m\u001b[0;34m\u001b[0m\u001b[0m\n",
      "\u001b[0;31mTypeError\u001b[0m: unsupported operand type(s) for /: 'float' and 'NoneType'"
     ]
    }
   ],
   "source": [
    "print(summary.max_gflops)\n",
    "print(summary.max_l1)\n",
    "print(summary.max_l2)\n",
    "print(summary.max_dram)\n",
    "\n",
    "print(summary.max_gflops / summary.max_l1)\n",
    "print(summary.max_gflops / summary.max_l2)\n",
    "print(summary.max_gflops / summary.max_dram)"
   ]
  },
  {
   "cell_type": "code",
   "execution_count": 28,
   "metadata": {},
   "outputs": [
    {
     "name": "stdout",
     "output_type": "stream",
     "text": [
      "[[10133.20508877394, 1000], [16.04930018062003, 107]]\n"
     ]
    },
    {
     "data": {
      "image/png": "[encoded data removed]",
      "text/plain": [
       "<Figure size 720x360 with 1 Axes>"
      ]
     },
     "metadata": {},
     "output_type": "display_data"
    }
   ],
   "source": [
    "plot_roofline(get_test_summaries())"
   ]
  },
  {
   "cell_type": "code",
   "execution_count": 29,
   "metadata": {},
   "outputs": [
    {
     "data": {
      "image/png": "[encoded data removed]",
      "text/plain": [
       "<Figure size 720x360 with 1 Axes>"
      ]
     },
     "metadata": {},
     "output_type": "display_data"
    }
   ],
   "source": [
    "plot_bandwidth(summary)"
   ]
  },
  {
   "cell_type": "code",
   "execution_count": 13,
   "metadata": {},
   "outputs": [
    {
     "name": "stdout",
     "output_type": "stream",
     "text": [
      "1584.794701986755\n"
     ]
    }
   ],
   "source": [
    "print(summary.max_gflops)"
   ]
  },
  {
   "cell_type": "code",
   "execution_count": 22,
   "metadata": {},
   "outputs": [
    {
     "data": {
      "text/plain": [
       "['threads-8_flops-4_neon-false.gables',\n",
       " 'threads-8_flops-1_neon-false.gables',\n",
       " 'threads-8_flops-2_neon-false.gables']"
      ]
     },
     "execution_count": 22,
     "metadata": {},
     "output_type": "execute_result"
    }
   ],
   "source": [
    "os.listdir()"
   ]
  },
  {
   "cell_type": "code",
   "execution_count": 23,
   "metadata": {},
   "outputs": [
    {
     "data": {
      "text/plain": [
       "['obj',\n",
       " 'inc',\n",
       " 'run-arm.sh',\n",
       " 'Android.mk',\n",
       " 'build-x86.sh',\n",
       " 'Application.mk',\n",
       " 'Makefile',\n",
       " 'ndk_sweep.py',\n",
       " 'build-arm.sh',\n",
       " 'libs',\n",
       " 'new-gables.ipynb',\n",
       " '.ipynb_checkpoints',\n",
       " '.git',\n",
       " 'out-1.gables',\n",
       " 'src']"
      ]
     },
     "execution_count": 23,
     "metadata": {},
     "output_type": "execute_result"
    }
   ],
   "source": [
    "os.listdir()\n"
   ]
  },
  {
   "cell_type": "code",
   "execution_count": null,
   "metadata": {},
   "outputs": [],
   "source": []
  }
 ],
 "metadata": {
  "kernelspec": {
   "display_name": "Python 3",
   "language": "python",
   "name": "python3"
  },
  "language_info": {
   "codemirror_mode": {
    "name": "ipython",
    "version": 3
   },
   "file_extension": ".py",
   "mimetype": "text/x-python",
   "name": "python",
   "nbconvert_exporter": "python",
   "pygments_lexer": "ipython3",
   "version": "3.7.3"
  }
 },
 "nbformat": 4,
 "nbformat_minor": 2
}
